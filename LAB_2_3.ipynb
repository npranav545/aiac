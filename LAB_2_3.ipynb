{
  "nbformat": 4,
  "nbformat_minor": 0,
  "metadata": {
    "colab": {
      "provenance": [],
      "authorship_tag": "ABX9TyOWEwtB0r10v5Zmy2SMH8qO",
      "include_colab_link": true
    },
    "kernelspec": {
      "name": "python3",
      "display_name": "Python 3"
    },
    "language_info": {
      "name": "python"
    }
  },
  "cells": [
    {
      "cell_type": "markdown",
      "metadata": {
        "id": "view-in-github",
        "colab_type": "text"
      },
      "source": [
        "<a href=\"https://colab.research.google.com/github/npranav545/aiac/blob/main/LAB_2_3.ipynb\" target=\"_parent\"><img src=\"https://colab.research.google.com/assets/colab-badge.svg\" alt=\"Open In Colab\"/></a>"
      ]
    },
    {
      "cell_type": "code",
      "execution_count": null,
      "metadata": {
        "id": "LCJP_Stzbt3S"
      },
      "outputs": [],
      "source": []
    },
    {
      "cell_type": "markdown",
      "source": [
        "Task Description#1\n",
        "● Use Google Gemini in Colab to write a function that reads a CSV file and calculates\n",
        "mean, min, max.\n",
        "Expected Output#1\n",
        "● Functional code with output and screenshot"
      ],
      "metadata": {
        "id": "W9A5m0J5cK_l"
      }
    },
    {
      "cell_type": "code",
      "source": [
        "# Example usage:\n",
        "# Replace 'your_csv_file.csv' with the actual path to your CSV file\n",
        "file_path = '/content/lab_2.3.csv'\n",
        "analysis_results = analyze_csv(file_path)\n",
        "\n",
        "if analysis_results:\n",
        "  for col, stats in analysis_results.items():\n",
        "    print(f\"Column '{col}':\")\n",
        "    print(f\"  Mean: {stats['mean']:.2f}\")\n",
        "    print(f\"  Max: {stats['max']:.2f}\")\n",
        "    print(f\"  Min: {stats['min']:.2f}\")\n",
        "else:\n",
        "  print(\"No numerical columns found or an error occurred.\")"
      ],
      "metadata": {
        "colab": {
          "base_uri": "https://localhost:8080/"
        },
        "id": "NrJEFQV7lKJ9",
        "outputId": "9686cd3d-bef4-4c6b-9ccb-70b373b49ee3"
      },
      "execution_count": null,
      "outputs": [
        {
          "output_type": "stream",
          "name": "stdout",
          "text": [
            "Column 'marks':\n",
            "  Mean: 56.60\n",
            "  Max: 96.00\n",
            "  Min: 25.00\n"
          ]
        }
      ]
    },
    {
      "cell_type": "markdown",
      "source": [
        "Task Description#2\n",
        "● Compare Gemini and Copilot outputs for a palindrome check function.\n",
        "Expected Output#2\n",
        "● Side-by-side comparison and observations"
      ],
      "metadata": {
        "id": "hJ4JBuGrSK_z"
      }
    },
    {
      "cell_type": "code",
      "metadata": {
        "colab": {
          "base_uri": "https://localhost:8080/"
        },
        "id": "0e0f1fe6",
        "outputId": "220e8763-d18f-43e7-ec4f-c098f04afbde"
      },
      "source": [
        "def is_palindrome_number(number):\n",
        "  \"\"\"\n",
        "  Checks if a given number is a palindrome.\n",
        "\n",
        "  Args:\n",
        "    number: The input number (integer).\n",
        "\n",
        "  Returns:\n",
        "    True if the number is a palindrome, False otherwise.\n",
        "  \"\"\"\n",
        "  # Convert the number to a string\n",
        "  num_str = str(number)\n",
        "\n",
        "  # Check if the string is equal to its reverse\n",
        "  return num_str == num_str[::-1]\n",
        "\n",
        "# Example Usage:\n",
        "print(f\"121 is a palindrome: {is_palindrome_number(121)}\")\n",
        "print(f\"123 is a palindrome: {is_palindrome_number(123)}\")\n",
        "print(f\"1221 is a palindrome: {is_palindrome_number(1221)}\")"
      ],
      "execution_count": 1,
      "outputs": [
        {
          "output_type": "stream",
          "name": "stdout",
          "text": [
            "121 is a palindrome: True\n",
            "123 is a palindrome: False\n",
            "1221 is a palindrome: True\n"
          ]
        }
      ]
    },
    {
      "cell_type": "code",
      "source": [],
      "metadata": {
        "id": "GvF2rw_bTDYH"
      },
      "execution_count": null,
      "outputs": []
    },
    {
      "cell_type": "markdown",
      "source": [
        "Task Description#3\n",
        "● Ask Gemini to explain a Python function (to calculate area of various shapes) line by\n",
        "line..\n",
        "Expected Output#3\n",
        "● Detailed explanation with code snippet"
      ],
      "metadata": {
        "id": "iwyK7XsGHnt3"
      }
    },
    {
      "cell_type": "code",
      "metadata": {
        "colab": {
          "base_uri": "https://localhost:8080/"
        },
        "id": "dec293c7",
        "outputId": "938feba8-1d9e-466c-e217-5c7707f5b36a"
      },
      "source": [
        "import math\n",
        "\n",
        "def calculate_area(shape, **kwargs):\n",
        "  \"\"\"\n",
        "  Calculates the area of various shapes.\n",
        "\n",
        "  Args:\n",
        "    shape: A string representing the shape (e.g., 'circle', 'rectangle', 'triangle').\n",
        "    **kwargs: Keyword arguments representing the dimensions of the shape.\n",
        "\n",
        "  Returns:\n",
        "    The area of the shape, or None if the shape is not supported or dimensions are missing.\n",
        "  \"\"\"\n",
        "  if shape == 'circle':\n",
        "    # Calculate area of a circle\n",
        "    if 'radius' in kwargs:\n",
        "      radius = kwargs['radius']\n",
        "      return math.pi * (radius ** 2)\n",
        "    else:\n",
        "      print(\"Error: Radius is required for a circle.\")\n",
        "      return None\n",
        "  elif shape == 'rectangle':\n",
        "    # Calculate area of a rectangle\n",
        "    if 'length' in kwargs and 'width' in kwargs:\n",
        "      length = kwargs['length']\n",
        "      width = kwargs['width']\n",
        "      return length * width\n",
        "    else:\n",
        "      print(\"Error: Length and width are required for a rectangle.\")\n",
        "      return None\n",
        "  elif shape == 'triangle':\n",
        "    # Calculate area of a triangle (using base and height)\n",
        "    if 'base' in kwargs and 'height' in kwargs:\n",
        "      base = kwargs['base']\n",
        "      height = kwargs['height']\n",
        "      return 0.5 * base * height\n",
        "    else:\n",
        "      print(\"Error: Base and height are required for a triangle.\")\n",
        "      return None\n",
        "  else:\n",
        "    print(f\"Error: Unsupported shape '{shape}'.\")\n",
        "    return None\n",
        "\n",
        "# Example Usage:\n",
        "print(f\"Area of circle with radius 5: {calculate_area('circle', radius=5):.2f}\")\n",
        "print(f\"Area of rectangle with length 4 and width 6: {calculate_area('rectangle', length=4, width=6)}\")\n",
        "print(f\"Area of triangle with base 3 and height 8: {calculate_area('triangle', base=3, height=8)}\")\n",
        "print(f\"Area of square with side 5 (unsupported shape): {calculate_area('square', side=5)}\")"
      ],
      "execution_count": null,
      "outputs": [
        {
          "output_type": "stream",
          "name": "stdout",
          "text": [
            "Area of circle with radius 5: 78.54\n",
            "Area of rectangle with length 4 and width 6: 24\n",
            "Area of triangle with base 3 and height 8: 12.0\n",
            "Error: Unsupported shape 'square'.\n",
            "Area of square with side 5 (unsupported shape): None\n"
          ]
        }
      ]
    },
    {
      "cell_type": "markdown",
      "source": [
        "Task Description#5\n",
        "● Student need to write code to calculate sum of add number and even numbers in the\n",
        "list\n",
        "Expected Output#5\n",
        "● Refactored code written by student with improved logic"
      ],
      "metadata": {
        "id": "VAvDB6XVT_XW"
      }
    },
    {
      "cell_type": "markdown",
      "source": [],
      "metadata": {
        "id": "EmW8me40RE9u"
      }
    },
    {
      "cell_type": "code",
      "source": [],
      "metadata": {
        "id": "bWC5PRbhREc1"
      },
      "execution_count": null,
      "outputs": []
    },
    {
      "cell_type": "markdown",
      "source": [],
      "metadata": {
        "id": "NobkveXPWsY-"
      }
    },
    {
      "cell_type": "code",
      "metadata": {
        "colab": {
          "base_uri": "https://localhost:8080/"
        },
        "id": "c5cb5486",
        "outputId": "6a3904ac-2b0f-4b64-d0d9-d41d5c6237ac"
      },
      "source": [
        "def calculate_odd_even_sum():\n",
        "  \"\"\"\n",
        "  Takes a list of numbers from the user and calculates the sum of odd and even numbers.\n",
        "  \"\"\"\n",
        "  while True:\n",
        "    user_input = input(\"Enter a list of numbers separated by spaces (e.g., 1 2 3 4 5): \")\n",
        "    try:\n",
        "      # Convert the input string into a list of integers\n",
        "      numbers = [int(x) for x in user_input.split()]\n",
        "      break # Exit the loop if input is valid\n",
        "    except ValueError:\n",
        "      print(\"Invalid input. Please enter numbers separated by spaces.\")\n",
        "\n",
        "  odd_sum = 0\n",
        "  even_sum = 0\n",
        "\n",
        "  for number in numbers:\n",
        "    if number % 2 == 0:\n",
        "      even_sum += number\n",
        "    else:\n",
        "      odd_sum += number\n",
        "\n",
        "  print(f\"The list of numbers is: {numbers}\")\n",
        "  print(f\"Sum of even numbers: {even_sum}\")\n",
        "  print(f\"Sum of odd numbers: {odd_sum}\")\n",
        "\n",
        "# Run the function\n",
        "calculate_odd_even_sum()"
      ],
      "execution_count": 2,
      "outputs": [
        {
          "output_type": "stream",
          "name": "stdout",
          "text": [
            "Enter a list of numbers separated by spaces (e.g., 1 2 3 4 5): 1 4 5 6 8 9 25\n",
            "The list of numbers is: [1, 4, 5, 6, 8, 9, 25]\n",
            "Sum of even numbers: 18\n",
            "Sum of odd numbers: 40\n"
          ]
        }
      ]
    }
  ]
}